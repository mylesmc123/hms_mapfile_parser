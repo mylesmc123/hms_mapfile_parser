{
 "cells": [
  {
   "cell_type": "code",
   "execution_count": 57,
   "id": "33b8d986",
   "metadata": {},
   "outputs": [],
   "source": [
    "# Use the original_model_subbasins table of name and area to match to the parsed mapfile geojson subbasins by area, and assign name(s). There can be multiple subbasins that have the same area, so multiple names are alowed.\n",
    "original_model_subbasins_table =  r\"C:\\Users\\MBMcmanus\\OneDrive - Garver\\Documents\\Work\\Lawton\\GIS\\orig_subbasin_names_area.csv\"\n",
    "mapfile_subbasins_geojson = r\"C:\\Users\\MBMcmanus\\OneDrive - Garver\\Documents\\Work\\Lawton\\GIS\\SquawCreek_Subbasins.geojson\"\n",
    "basin = \"Squaw\"\n"
   ]
  },
  {
   "cell_type": "code",
   "execution_count": 58,
   "id": "fe23f4cd",
   "metadata": {},
   "outputs": [
    {
     "data": {
      "text/html": [
       "<div>\n",
       "<style scoped>\n",
       "    .dataframe tbody tr th:only-of-type {\n",
       "        vertical-align: middle;\n",
       "    }\n",
       "\n",
       "    .dataframe tbody tr th {\n",
       "        vertical-align: top;\n",
       "    }\n",
       "\n",
       "    .dataframe thead th {\n",
       "        text-align: right;\n",
       "    }\n",
       "</style>\n",
       "<table border=\"1\" class=\"dataframe\">\n",
       "  <thead>\n",
       "    <tr style=\"text-align: right;\">\n",
       "      <th></th>\n",
       "      <th>ID</th>\n",
       "      <th>area_sq_mi</th>\n",
       "      <th>AreaMatches</th>\n",
       "      <th>name</th>\n",
       "      <th>geometry</th>\n",
       "    </tr>\n",
       "  </thead>\n",
       "  <tbody>\n",
       "    <tr>\n",
       "      <th>0</th>\n",
       "      <td>1</td>\n",
       "      <td>0.0134</td>\n",
       "      <td>SQUAW A-3-f, SQUAW A-16-d, SQUAW B-2-north, SQ...</td>\n",
       "      <td>SQUAW A-3-f</td>\n",
       "      <td>POLYGON ((-220073.061 1287339.548, -220085.971...</td>\n",
       "    </tr>\n",
       "    <tr>\n",
       "      <th>1</th>\n",
       "      <td>2</td>\n",
       "      <td>0.0683</td>\n",
       "      <td>E. CACHE TRIB A a, WRATTON TRIB 1 c, MISSION C...</td>\n",
       "      <td>SQUAW B-1-c</td>\n",
       "      <td>POLYGON ((-219614.008 1288213.157, -219564.117...</td>\n",
       "    </tr>\n",
       "    <tr>\n",
       "      <th>2</th>\n",
       "      <td>3</td>\n",
       "      <td>0.0193</td>\n",
       "      <td>SQUAW A-14-a, SQUAW B-2-north, SQUAW B-2-south...</td>\n",
       "      <td>SQUAW B-1-d</td>\n",
       "      <td>POLYGON ((-219489.304 1287946.851, -219433.41 ...</td>\n",
       "    </tr>\n",
       "    <tr>\n",
       "      <th>3</th>\n",
       "      <td>4</td>\n",
       "      <td>0.0396</td>\n",
       "      <td>SQUAW B-3-a, SQUAW A-7-b, SQUAW A-11-b, SQUAW ...</td>\n",
       "      <td>SQUAW B-1-e</td>\n",
       "      <td>POLYGON ((-219035.76 1287942.727, -219028.068 ...</td>\n",
       "    </tr>\n",
       "    <tr>\n",
       "      <th>4</th>\n",
       "      <td>5</td>\n",
       "      <td>0.0347</td>\n",
       "      <td>SQUAW A-14, SQUAW A-14-i, SQUAW B-3-a, SQUAW A...</td>\n",
       "      <td>SQUAW A-14-i</td>\n",
       "      <td>POLYGON ((-221844.247 1287526.25, -221843.898 ...</td>\n",
       "    </tr>\n",
       "  </tbody>\n",
       "</table>\n",
       "</div>"
      ],
      "text/plain": [
       "   ID  area_sq_mi                                        AreaMatches  \\\n",
       "0   1      0.0134  SQUAW A-3-f, SQUAW A-16-d, SQUAW B-2-north, SQ...   \n",
       "1   2      0.0683  E. CACHE TRIB A a, WRATTON TRIB 1 c, MISSION C...   \n",
       "2   3      0.0193  SQUAW A-14-a, SQUAW B-2-north, SQUAW B-2-south...   \n",
       "3   4      0.0396  SQUAW B-3-a, SQUAW A-7-b, SQUAW A-11-b, SQUAW ...   \n",
       "4   5      0.0347  SQUAW A-14, SQUAW A-14-i, SQUAW B-3-a, SQUAW A...   \n",
       "\n",
       "           name                                           geometry  \n",
       "0   SQUAW A-3-f  POLYGON ((-220073.061 1287339.548, -220085.971...  \n",
       "1   SQUAW B-1-c  POLYGON ((-219614.008 1288213.157, -219564.117...  \n",
       "2   SQUAW B-1-d  POLYGON ((-219489.304 1287946.851, -219433.41 ...  \n",
       "3   SQUAW B-1-e  POLYGON ((-219035.76 1287942.727, -219028.068 ...  \n",
       "4  SQUAW A-14-i  POLYGON ((-221844.247 1287526.25, -221843.898 ...  "
      ]
     },
     "execution_count": 58,
     "metadata": {},
     "output_type": "execute_result"
    }
   ],
   "source": [
    "import geopandas as gpd\n",
    "\n",
    "# open the mapfile subbasins geojson\n",
    "mapfile_subbasins = gpd.read_file(mapfile_subbasins_geojson)\n",
    "mapfile_subbasins.head()"
   ]
  },
  {
   "cell_type": "code",
   "execution_count": 59,
   "id": "0cd0aeb2",
   "metadata": {},
   "outputs": [
    {
     "data": {
      "text/html": [
       "<div>\n",
       "<style scoped>\n",
       "    .dataframe tbody tr th:only-of-type {\n",
       "        vertical-align: middle;\n",
       "    }\n",
       "\n",
       "    .dataframe tbody tr th {\n",
       "        vertical-align: top;\n",
       "    }\n",
       "\n",
       "    .dataframe thead th {\n",
       "        text-align: right;\n",
       "    }\n",
       "</style>\n",
       "<table border=\"1\" class=\"dataframe\">\n",
       "  <thead>\n",
       "    <tr style=\"text-align: right;\">\n",
       "      <th></th>\n",
       "      <th>ID</th>\n",
       "      <th>area_sq_mi</th>\n",
       "      <th>geometry</th>\n",
       "    </tr>\n",
       "  </thead>\n",
       "  <tbody>\n",
       "    <tr>\n",
       "      <th>0</th>\n",
       "      <td>1</td>\n",
       "      <td>0.0134</td>\n",
       "      <td>POLYGON ((-220073.061 1287339.548, -220085.971...</td>\n",
       "    </tr>\n",
       "    <tr>\n",
       "      <th>1</th>\n",
       "      <td>2</td>\n",
       "      <td>0.0683</td>\n",
       "      <td>POLYGON ((-219614.008 1288213.157, -219564.117...</td>\n",
       "    </tr>\n",
       "    <tr>\n",
       "      <th>2</th>\n",
       "      <td>3</td>\n",
       "      <td>0.0193</td>\n",
       "      <td>POLYGON ((-219489.304 1287946.851, -219433.41 ...</td>\n",
       "    </tr>\n",
       "    <tr>\n",
       "      <th>3</th>\n",
       "      <td>4</td>\n",
       "      <td>0.0396</td>\n",
       "      <td>POLYGON ((-219035.76 1287942.727, -219028.068 ...</td>\n",
       "    </tr>\n",
       "    <tr>\n",
       "      <th>4</th>\n",
       "      <td>5</td>\n",
       "      <td>0.0347</td>\n",
       "      <td>POLYGON ((-221844.247 1287526.25, -221843.898 ...</td>\n",
       "    </tr>\n",
       "  </tbody>\n",
       "</table>\n",
       "</div>"
      ],
      "text/plain": [
       "   ID  area_sq_mi                                           geometry\n",
       "0   1      0.0134  POLYGON ((-220073.061 1287339.548, -220085.971...\n",
       "1   2      0.0683  POLYGON ((-219614.008 1288213.157, -219564.117...\n",
       "2   3      0.0193  POLYGON ((-219489.304 1287946.851, -219433.41 ...\n",
       "3   4      0.0396  POLYGON ((-219035.76 1287942.727, -219028.068 ...\n",
       "4   5      0.0347  POLYGON ((-221844.247 1287526.25, -221843.898 ..."
      ]
     },
     "execution_count": 59,
     "metadata": {},
     "output_type": "execute_result"
    }
   ],
   "source": [
    "# remove the AreaMatches and name column\n",
    "mapfile_subbasins = mapfile_subbasins.drop(columns=['AreaMatches', 'name'])\n",
    "mapfile_subbasins.head()"
   ]
  },
  {
   "cell_type": "code",
   "execution_count": 60,
   "id": "e9a035d9",
   "metadata": {},
   "outputs": [
    {
     "data": {
      "application/vnd.microsoft.datawrangler.viewer.v0+json": {
       "columns": [
        {
         "name": "index",
         "rawType": "int64",
         "type": "integer"
        },
        {
         "name": "name",
         "rawType": "object",
         "type": "string"
        },
        {
         "name": "area_sq_mi",
         "rawType": "float64",
         "type": "float"
        },
        {
         "name": "Basin",
         "rawType": "object",
         "type": "string"
        }
       ],
       "conversionMethod": "pd.DataFrame",
       "ref": "8a177e74-a191-45ba-9f30-84007ab02f3b",
       "rows": [
        [
         "0",
         "ADJ. ELLSWORTH 104",
         "67.13",
         "E_Cache"
        ],
        [
         "1",
         "ADJ. LAWTONKA 114",
         "23.15",
         "E_Cache"
        ],
        [
         "2",
         "BEEF CREEK 140",
         "18.34",
         "E_Cache"
        ],
        [
         "3",
         "E. C TO H.E. BAILIEY",
         "0.74",
         "E_Cache"
        ],
        [
         "4",
         "E. C TO MEDICINE CK",
         "10.4",
         "E_Cache"
        ]
       ],
       "shape": {
        "columns": 3,
        "rows": 5
       }
      },
      "text/html": [
       "<div>\n",
       "<style scoped>\n",
       "    .dataframe tbody tr th:only-of-type {\n",
       "        vertical-align: middle;\n",
       "    }\n",
       "\n",
       "    .dataframe tbody tr th {\n",
       "        vertical-align: top;\n",
       "    }\n",
       "\n",
       "    .dataframe thead th {\n",
       "        text-align: right;\n",
       "    }\n",
       "</style>\n",
       "<table border=\"1\" class=\"dataframe\">\n",
       "  <thead>\n",
       "    <tr style=\"text-align: right;\">\n",
       "      <th></th>\n",
       "      <th>name</th>\n",
       "      <th>area_sq_mi</th>\n",
       "      <th>Basin</th>\n",
       "    </tr>\n",
       "  </thead>\n",
       "  <tbody>\n",
       "    <tr>\n",
       "      <th>0</th>\n",
       "      <td>ADJ. ELLSWORTH 104</td>\n",
       "      <td>67.13</td>\n",
       "      <td>E_Cache</td>\n",
       "    </tr>\n",
       "    <tr>\n",
       "      <th>1</th>\n",
       "      <td>ADJ. LAWTONKA 114</td>\n",
       "      <td>23.15</td>\n",
       "      <td>E_Cache</td>\n",
       "    </tr>\n",
       "    <tr>\n",
       "      <th>2</th>\n",
       "      <td>BEEF CREEK 140</td>\n",
       "      <td>18.34</td>\n",
       "      <td>E_Cache</td>\n",
       "    </tr>\n",
       "    <tr>\n",
       "      <th>3</th>\n",
       "      <td>E. C TO H.E. BAILIEY</td>\n",
       "      <td>0.74</td>\n",
       "      <td>E_Cache</td>\n",
       "    </tr>\n",
       "    <tr>\n",
       "      <th>4</th>\n",
       "      <td>E. C TO MEDICINE CK</td>\n",
       "      <td>10.40</td>\n",
       "      <td>E_Cache</td>\n",
       "    </tr>\n",
       "  </tbody>\n",
       "</table>\n",
       "</div>"
      ],
      "text/plain": [
       "                   name  area_sq_mi    Basin\n",
       "0    ADJ. ELLSWORTH 104       67.13  E_Cache\n",
       "1     ADJ. LAWTONKA 114       23.15  E_Cache\n",
       "2        BEEF CREEK 140       18.34  E_Cache\n",
       "3  E. C TO H.E. BAILIEY        0.74  E_Cache\n",
       "4   E. C TO MEDICINE CK       10.40  E_Cache"
      ]
     },
     "execution_count": 60,
     "metadata": {},
     "output_type": "execute_result"
    }
   ],
   "source": [
    "# open the original model subbasins table\n",
    "import pandas as pd\n",
    "original_model_subbasins = pd.read_csv(original_model_subbasins_table)\n",
    "# rename the columns to match the mapfile subbasins\n",
    "original_model_subbasins.rename(columns={'Area (sqmi)': 'area_sq_mi', 'Subbasin': 'name'}, inplace=True)\n",
    "original_model_subbasins.head()"
   ]
  },
  {
   "cell_type": "code",
   "execution_count": 61,
   "id": "7791d7b6",
   "metadata": {},
   "outputs": [
    {
     "data": {
      "application/vnd.microsoft.datawrangler.viewer.v0+json": {
       "columns": [
        {
         "name": "index",
         "rawType": "int64",
         "type": "integer"
        },
        {
         "name": "name",
         "rawType": "object",
         "type": "string"
        },
        {
         "name": "area_sq_mi",
         "rawType": "float64",
         "type": "float"
        }
       ],
       "conversionMethod": "pd.DataFrame",
       "ref": "8dd95bef-c5b6-4120-be2e-7d5de1b4a53d",
       "rows": [
        [
         "58",
         "SQUAW 1",
         "0.46"
        ],
        [
         "59",
         "SQUAW 10",
         "1.28"
        ],
        [
         "60",
         "SQUAW 11",
         "1.94"
        ],
        [
         "61",
         "SQUAW 12",
         "0.29"
        ],
        [
         "62",
         "SQUAW 13",
         "0.27"
        ],
        [
         "63",
         "SQUAW 2",
         "0.29"
        ],
        [
         "64",
         "SQUAW 3",
         "0.2"
        ],
        [
         "65",
         "SQUAW 4",
         "0.08"
        ],
        [
         "66",
         "SQUAW 5",
         "0.23"
        ],
        [
         "67",
         "SQUAW 6",
         "0.09"
        ],
        [
         "68",
         "SQUAW 7",
         "0.23"
        ],
        [
         "69",
         "SQUAW 8",
         "0.67"
        ],
        [
         "70",
         "SQUAW 9",
         "0.58"
        ],
        [
         "71",
         "SQUAW A-1",
         "0.13"
        ],
        [
         "72",
         "SQUAW A-10",
         "0.19"
        ],
        [
         "73",
         "SQUAW A-11-a",
         "0.28"
        ],
        [
         "74",
         "SQUAW A-11-b",
         "0.04"
        ],
        [
         "75",
         "SQUAW A-12",
         "0.28"
        ],
        [
         "76",
         "SQUAW A-13-a",
         "0.13"
        ],
        [
         "77",
         "SQUAW A-13-b",
         "0.09"
        ],
        [
         "78",
         "SQUAW A-14",
         "0.03"
        ],
        [
         "79",
         "SQUAW A-14-a",
         "0.02"
        ],
        [
         "80",
         "SQUAW A-14-b",
         "0.06"
        ],
        [
         "81",
         "SQUAW A-14-c",
         "0.06"
        ],
        [
         "82",
         "SQUAW A-14-d",
         "0.09"
        ],
        [
         "83",
         "SQUAW A-14-h",
         "0.05"
        ],
        [
         "84",
         "SQUAW A-14-i",
         "0.03"
        ],
        [
         "85",
         "SQUAW A-15",
         "0.19"
        ],
        [
         "86",
         "SQUAW A-15-a",
         "0.06"
        ],
        [
         "87",
         "SQUAW A-16-a",
         "0.04"
        ],
        [
         "88",
         "SQUAW A-16-b",
         "0.07"
        ],
        [
         "89",
         "SQUAW A-16-d",
         "0.01"
        ],
        [
         "90",
         "SQUAW A-16-e",
         "0.05"
        ],
        [
         "91",
         "SQUAW A-16-f",
         "0.11"
        ],
        [
         "92",
         "SQUAW A-17",
         "0.29"
        ],
        [
         "93",
         "SQUAW A-2-a",
         "0.26"
        ],
        [
         "94",
         "SQUAW A-2-b",
         "0.19"
        ],
        [
         "95",
         "SQUAW A-3-a",
         "0.06"
        ],
        [
         "96",
         "SQUAW A-3-b",
         "0.05"
        ],
        [
         "97",
         "SQUAW A-3-e",
         "0.05"
        ],
        [
         "98",
         "SQUAW A-3-f",
         "0.01"
        ],
        [
         "99",
         "SQUAW A-3-i",
         "0.16"
        ],
        [
         "100",
         "SQUAW A-4-b",
         "0.17"
        ],
        [
         "101",
         "SQUAW A-5-a",
         "0.04"
        ],
        [
         "102",
         "SQUAW A-5-b",
         "0.13"
        ],
        [
         "103",
         "SQUAW A-5-c",
         "0.08"
        ],
        [
         "104",
         "SQUAW A-6",
         "0.09"
        ],
        [
         "105",
         "SQUAW A-7-a",
         "0.09"
        ],
        [
         "106",
         "SQUAW A-7-b",
         "0.04"
        ],
        [
         "107",
         "SQUAW A-8",
         "0.32"
        ]
       ],
       "shape": {
        "columns": 2,
        "rows": 78
       }
      },
      "text/html": [
       "<div>\n",
       "<style scoped>\n",
       "    .dataframe tbody tr th:only-of-type {\n",
       "        vertical-align: middle;\n",
       "    }\n",
       "\n",
       "    .dataframe tbody tr th {\n",
       "        vertical-align: top;\n",
       "    }\n",
       "\n",
       "    .dataframe thead th {\n",
       "        text-align: right;\n",
       "    }\n",
       "</style>\n",
       "<table border=\"1\" class=\"dataframe\">\n",
       "  <thead>\n",
       "    <tr style=\"text-align: right;\">\n",
       "      <th></th>\n",
       "      <th>name</th>\n",
       "      <th>area_sq_mi</th>\n",
       "    </tr>\n",
       "  </thead>\n",
       "  <tbody>\n",
       "    <tr>\n",
       "      <th>58</th>\n",
       "      <td>SQUAW 1</td>\n",
       "      <td>0.46</td>\n",
       "    </tr>\n",
       "    <tr>\n",
       "      <th>59</th>\n",
       "      <td>SQUAW 10</td>\n",
       "      <td>1.28</td>\n",
       "    </tr>\n",
       "    <tr>\n",
       "      <th>60</th>\n",
       "      <td>SQUAW 11</td>\n",
       "      <td>1.94</td>\n",
       "    </tr>\n",
       "    <tr>\n",
       "      <th>61</th>\n",
       "      <td>SQUAW 12</td>\n",
       "      <td>0.29</td>\n",
       "    </tr>\n",
       "    <tr>\n",
       "      <th>62</th>\n",
       "      <td>SQUAW 13</td>\n",
       "      <td>0.27</td>\n",
       "    </tr>\n",
       "    <tr>\n",
       "      <th>...</th>\n",
       "      <td>...</td>\n",
       "      <td>...</td>\n",
       "    </tr>\n",
       "    <tr>\n",
       "      <th>131</th>\n",
       "      <td>SQUAW C-3-c</td>\n",
       "      <td>0.45</td>\n",
       "    </tr>\n",
       "    <tr>\n",
       "      <th>132</th>\n",
       "      <td>SQUAW C-3-d</td>\n",
       "      <td>0.11</td>\n",
       "    </tr>\n",
       "    <tr>\n",
       "      <th>133</th>\n",
       "      <td>SQUAW C-5-a</td>\n",
       "      <td>0.06</td>\n",
       "    </tr>\n",
       "    <tr>\n",
       "      <th>134</th>\n",
       "      <td>SQUAW C-5-b</td>\n",
       "      <td>0.29</td>\n",
       "    </tr>\n",
       "    <tr>\n",
       "      <th>135</th>\n",
       "      <td>SQUAW C-5-c</td>\n",
       "      <td>0.65</td>\n",
       "    </tr>\n",
       "  </tbody>\n",
       "</table>\n",
       "<p>78 rows × 2 columns</p>\n",
       "</div>"
      ],
      "text/plain": [
       "            name  area_sq_mi\n",
       "58       SQUAW 1        0.46\n",
       "59      SQUAW 10        1.28\n",
       "60      SQUAW 11        1.94\n",
       "61      SQUAW 12        0.29\n",
       "62      SQUAW 13        0.27\n",
       "..           ...         ...\n",
       "131  SQUAW C-3-c        0.45\n",
       "132  SQUAW C-3-d        0.11\n",
       "133  SQUAW C-5-a        0.06\n",
       "134  SQUAW C-5-b        0.29\n",
       "135  SQUAW C-5-c        0.65\n",
       "\n",
       "[78 rows x 2 columns]"
      ]
     },
     "execution_count": 61,
     "metadata": {},
     "output_type": "execute_result"
    }
   ],
   "source": [
    "# drop rows that are not in the basin\n",
    "original_model_subbasins = original_model_subbasins[original_model_subbasins['Basin'].str.contains(basin)]\n",
    "original_model_subbasins.drop(columns=['Basin'], inplace=True)\n",
    "original_model_subbasins"
   ]
  },
  {
   "cell_type": "code",
   "execution_count": 62,
   "id": "1a296c3b",
   "metadata": {},
   "outputs": [
    {
     "data": {
      "text/html": [
       "<div>\n",
       "<style scoped>\n",
       "    .dataframe tbody tr th:only-of-type {\n",
       "        vertical-align: middle;\n",
       "    }\n",
       "\n",
       "    .dataframe tbody tr th {\n",
       "        vertical-align: top;\n",
       "    }\n",
       "\n",
       "    .dataframe thead th {\n",
       "        text-align: right;\n",
       "    }\n",
       "</style>\n",
       "<table border=\"1\" class=\"dataframe\">\n",
       "  <thead>\n",
       "    <tr style=\"text-align: right;\">\n",
       "      <th></th>\n",
       "      <th>ID</th>\n",
       "      <th>area_sq_mi</th>\n",
       "      <th>geometry</th>\n",
       "      <th>name</th>\n",
       "    </tr>\n",
       "  </thead>\n",
       "  <tbody>\n",
       "    <tr>\n",
       "      <th>0</th>\n",
       "      <td>1</td>\n",
       "      <td>0.0134</td>\n",
       "      <td>POLYGON ((-220073.061 1287339.548, -220085.971...</td>\n",
       "      <td>[SQUAW A-16-d, SQUAW A-3-f, SQUAW B-2-north, S...</td>\n",
       "    </tr>\n",
       "    <tr>\n",
       "      <th>1</th>\n",
       "      <td>2</td>\n",
       "      <td>0.0683</td>\n",
       "      <td>POLYGON ((-219614.008 1288213.157, -219564.117...</td>\n",
       "      <td>[SQUAW A-16-b, SQUAW A-9-a, SQUAW B-1-c, SQUAW...</td>\n",
       "    </tr>\n",
       "    <tr>\n",
       "      <th>2</th>\n",
       "      <td>3</td>\n",
       "      <td>0.0193</td>\n",
       "      <td>POLYGON ((-219489.304 1287946.851, -219433.41 ...</td>\n",
       "      <td>[SQUAW B-1-d, SQUAW B-2-south, SQUAW A-14-a, S...</td>\n",
       "    </tr>\n",
       "    <tr>\n",
       "      <th>3</th>\n",
       "      <td>4</td>\n",
       "      <td>0.0396</td>\n",
       "      <td>POLYGON ((-219035.76 1287942.727, -219028.068 ...</td>\n",
       "      <td>[SQUAW B-3-a, SQUAW B-1-e, SQUAW C-2, SQUAW A-...</td>\n",
       "    </tr>\n",
       "    <tr>\n",
       "      <th>4</th>\n",
       "      <td>5</td>\n",
       "      <td>0.0347</td>\n",
       "      <td>POLYGON ((-221844.247 1287526.25, -221843.898 ...</td>\n",
       "      <td>[SQUAW A-14, SQUAW A-14-i, SQUAW B-3-a, SQUAW ...</td>\n",
       "    </tr>\n",
       "    <tr>\n",
       "      <th>...</th>\n",
       "      <td>...</td>\n",
       "      <td>...</td>\n",
       "      <td>...</td>\n",
       "      <td>...</td>\n",
       "    </tr>\n",
       "    <tr>\n",
       "      <th>89</th>\n",
       "      <td>132</td>\n",
       "      <td>1.2291</td>\n",
       "      <td>POLYGON ((-217151.019 1285694.115, -217151.019...</td>\n",
       "      <td>None</td>\n",
       "    </tr>\n",
       "    <tr>\n",
       "      <th>90</th>\n",
       "      <td>151</td>\n",
       "      <td>0.2295</td>\n",
       "      <td>POLYGON ((-217841.645 1282042.694, -217759.988...</td>\n",
       "      <td>[SQUAW 7, SQUAW 5]</td>\n",
       "    </tr>\n",
       "    <tr>\n",
       "      <th>91</th>\n",
       "      <td>151</td>\n",
       "      <td>0.2295</td>\n",
       "      <td>POLYGON ((-217841.645 1282042.694, -217842.377...</td>\n",
       "      <td>[SQUAW 7, SQUAW 5]</td>\n",
       "    </tr>\n",
       "    <tr>\n",
       "      <th>92</th>\n",
       "      <td>167</td>\n",
       "      <td>0.0460</td>\n",
       "      <td>POLYGON ((-221215.481 1286314.898, -221183.346...</td>\n",
       "      <td>[SQUAW A-16-e, SQUAW A-3-b, SQUAW B-1-a, SQUAW...</td>\n",
       "    </tr>\n",
       "    <tr>\n",
       "      <th>93</th>\n",
       "      <td>167</td>\n",
       "      <td>0.0460</td>\n",
       "      <td>POLYGON ((-221215.481 1286314.898, -221218.733...</td>\n",
       "      <td>[SQUAW A-16-e, SQUAW A-3-b, SQUAW B-1-a, SQUAW...</td>\n",
       "    </tr>\n",
       "  </tbody>\n",
       "</table>\n",
       "<p>94 rows × 4 columns</p>\n",
       "</div>"
      ],
      "text/plain": [
       "     ID  area_sq_mi                                           geometry  \\\n",
       "0     1      0.0134  POLYGON ((-220073.061 1287339.548, -220085.971...   \n",
       "1     2      0.0683  POLYGON ((-219614.008 1288213.157, -219564.117...   \n",
       "2     3      0.0193  POLYGON ((-219489.304 1287946.851, -219433.41 ...   \n",
       "3     4      0.0396  POLYGON ((-219035.76 1287942.727, -219028.068 ...   \n",
       "4     5      0.0347  POLYGON ((-221844.247 1287526.25, -221843.898 ...   \n",
       "..  ...         ...                                                ...   \n",
       "89  132      1.2291  POLYGON ((-217151.019 1285694.115, -217151.019...   \n",
       "90  151      0.2295  POLYGON ((-217841.645 1282042.694, -217759.988...   \n",
       "91  151      0.2295  POLYGON ((-217841.645 1282042.694, -217842.377...   \n",
       "92  167      0.0460  POLYGON ((-221215.481 1286314.898, -221183.346...   \n",
       "93  167      0.0460  POLYGON ((-221215.481 1286314.898, -221218.733...   \n",
       "\n",
       "                                                 name  \n",
       "0   [SQUAW A-16-d, SQUAW A-3-f, SQUAW B-2-north, S...  \n",
       "1   [SQUAW A-16-b, SQUAW A-9-a, SQUAW B-1-c, SQUAW...  \n",
       "2   [SQUAW B-1-d, SQUAW B-2-south, SQUAW A-14-a, S...  \n",
       "3   [SQUAW B-3-a, SQUAW B-1-e, SQUAW C-2, SQUAW A-...  \n",
       "4   [SQUAW A-14, SQUAW A-14-i, SQUAW B-3-a, SQUAW ...  \n",
       "..                                                ...  \n",
       "89                                               None  \n",
       "90                                 [SQUAW 7, SQUAW 5]  \n",
       "91                                 [SQUAW 7, SQUAW 5]  \n",
       "92  [SQUAW A-16-e, SQUAW A-3-b, SQUAW B-1-a, SQUAW...  \n",
       "93  [SQUAW A-16-e, SQUAW A-3-b, SQUAW B-1-a, SQUAW...  \n",
       "\n",
       "[94 rows x 4 columns]"
      ]
     },
     "execution_count": 62,
     "metadata": {},
     "output_type": "execute_result"
    }
   ],
   "source": [
    "# for each row in mapfile subbasins, find the next closest area in the original model subbasins table until the difference is greater than .01 difference in found closest areas, and assign the name(s) to the mapfile subbasin. If there are multiple matching areas within .01 sqmi, assign them as a list.\n",
    "mapfile_subbasins['name'] = None\n",
    "mapfile_subbasins['name'] = mapfile_subbasins['name'].astype(object) # make sure the name column is an object type to allow for lists\n",
    "for index, row in mapfile_subbasins.iterrows():\n",
    "    # get the area of the mapfile subbasin\n",
    "    mapfile_area = row['area_sq_mi']\n",
    "    # find the closest area in the original model subbasins table\n",
    "    original_model_subbasins['area_diff'] = abs(original_model_subbasins['area_sq_mi'] - mapfile_area)\n",
    "    # sort the original model subbasins by area_diff\n",
    "    original_model_subbasins.sort_values('area_diff', inplace=True)\n",
    "    # get the closest area and name(s) within .01 sqmi\n",
    "    closest_areas = original_model_subbasins[original_model_subbasins['area_diff'] < .01]\n",
    "    # if there are multiple closest areas, assign them as a list\n",
    "    if len(closest_areas) > 0:\n",
    "        mapfile_subbasins.at[index, 'name'] = list(closest_areas['name'])\n",
    "    # if there is only one closest area, assign it as a string\n",
    "    elif len(closest_areas) == 1:\n",
    "        mapfile_subbasins.at[index, 'name'] = closest_areas['name'].values[0]\n",
    "    # if there are no closest areas, assign None\n",
    "    else:\n",
    "        mapfile_subbasins.at[index, 'name'] = None\n",
    "mapfile_subbasins\n"
   ]
  },
  {
   "cell_type": "code",
   "execution_count": 63,
   "id": "c627d848",
   "metadata": {},
   "outputs": [
    {
     "data": {
      "text/html": [
       "<div>\n",
       "<style scoped>\n",
       "    .dataframe tbody tr th:only-of-type {\n",
       "        vertical-align: middle;\n",
       "    }\n",
       "\n",
       "    .dataframe tbody tr th {\n",
       "        vertical-align: top;\n",
       "    }\n",
       "\n",
       "    .dataframe thead th {\n",
       "        text-align: right;\n",
       "    }\n",
       "</style>\n",
       "<table border=\"1\" class=\"dataframe\">\n",
       "  <thead>\n",
       "    <tr style=\"text-align: right;\">\n",
       "      <th></th>\n",
       "      <th>ID</th>\n",
       "      <th>area_sq_mi</th>\n",
       "      <th>geometry</th>\n",
       "      <th>name</th>\n",
       "    </tr>\n",
       "  </thead>\n",
       "  <tbody>\n",
       "    <tr>\n",
       "      <th>0</th>\n",
       "      <td>1</td>\n",
       "      <td>0.0134</td>\n",
       "      <td>POLYGON ((-220073.061 1287339.548, -220085.971...</td>\n",
       "      <td>[SQUAW A-16-d, SQUAW A-3-f, SQUAW B-2-north, S...</td>\n",
       "    </tr>\n",
       "    <tr>\n",
       "      <th>1</th>\n",
       "      <td>2</td>\n",
       "      <td>0.0683</td>\n",
       "      <td>POLYGON ((-219614.008 1288213.157, -219564.117...</td>\n",
       "      <td>[SQUAW A-16-b, SQUAW A-9-a, SQUAW B-1-c, SQUAW...</td>\n",
       "    </tr>\n",
       "    <tr>\n",
       "      <th>2</th>\n",
       "      <td>3</td>\n",
       "      <td>0.0193</td>\n",
       "      <td>POLYGON ((-219489.304 1287946.851, -219433.41 ...</td>\n",
       "      <td>[SQUAW B-1-d, SQUAW B-2-south, SQUAW A-14-a, S...</td>\n",
       "    </tr>\n",
       "    <tr>\n",
       "      <th>3</th>\n",
       "      <td>4</td>\n",
       "      <td>0.0396</td>\n",
       "      <td>POLYGON ((-219035.76 1287942.727, -219028.068 ...</td>\n",
       "      <td>[SQUAW B-3-a, SQUAW B-1-e, SQUAW C-2, SQUAW A-...</td>\n",
       "    </tr>\n",
       "    <tr>\n",
       "      <th>4</th>\n",
       "      <td>5</td>\n",
       "      <td>0.0347</td>\n",
       "      <td>POLYGON ((-221844.247 1287526.25, -221843.898 ...</td>\n",
       "      <td>[SQUAW A-14, SQUAW A-14-i, SQUAW B-3-a, SQUAW ...</td>\n",
       "    </tr>\n",
       "    <tr>\n",
       "      <th>...</th>\n",
       "      <td>...</td>\n",
       "      <td>...</td>\n",
       "      <td>...</td>\n",
       "      <td>...</td>\n",
       "    </tr>\n",
       "    <tr>\n",
       "      <th>89</th>\n",
       "      <td>132</td>\n",
       "      <td>1.2291</td>\n",
       "      <td>POLYGON ((-217151.019 1285694.115, -217151.019...</td>\n",
       "      <td>None</td>\n",
       "    </tr>\n",
       "    <tr>\n",
       "      <th>90</th>\n",
       "      <td>151</td>\n",
       "      <td>0.2295</td>\n",
       "      <td>POLYGON ((-217841.645 1282042.694, -217759.988...</td>\n",
       "      <td>[SQUAW 7, SQUAW 5]</td>\n",
       "    </tr>\n",
       "    <tr>\n",
       "      <th>91</th>\n",
       "      <td>151</td>\n",
       "      <td>0.2295</td>\n",
       "      <td>POLYGON ((-217841.645 1282042.694, -217842.377...</td>\n",
       "      <td>[SQUAW 7, SQUAW 5]</td>\n",
       "    </tr>\n",
       "    <tr>\n",
       "      <th>92</th>\n",
       "      <td>167</td>\n",
       "      <td>0.0460</td>\n",
       "      <td>POLYGON ((-221215.481 1286314.898, -221183.346...</td>\n",
       "      <td>[SQUAW A-16-e, SQUAW A-3-b, SQUAW B-1-a, SQUAW...</td>\n",
       "    </tr>\n",
       "    <tr>\n",
       "      <th>93</th>\n",
       "      <td>167</td>\n",
       "      <td>0.0460</td>\n",
       "      <td>POLYGON ((-221215.481 1286314.898, -221218.733...</td>\n",
       "      <td>[SQUAW A-16-e, SQUAW A-3-b, SQUAW B-1-a, SQUAW...</td>\n",
       "    </tr>\n",
       "  </tbody>\n",
       "</table>\n",
       "<p>94 rows × 4 columns</p>\n",
       "</div>"
      ],
      "text/plain": [
       "     ID  area_sq_mi                                           geometry  \\\n",
       "0     1      0.0134  POLYGON ((-220073.061 1287339.548, -220085.971...   \n",
       "1     2      0.0683  POLYGON ((-219614.008 1288213.157, -219564.117...   \n",
       "2     3      0.0193  POLYGON ((-219489.304 1287946.851, -219433.41 ...   \n",
       "3     4      0.0396  POLYGON ((-219035.76 1287942.727, -219028.068 ...   \n",
       "4     5      0.0347  POLYGON ((-221844.247 1287526.25, -221843.898 ...   \n",
       "..  ...         ...                                                ...   \n",
       "89  132      1.2291  POLYGON ((-217151.019 1285694.115, -217151.019...   \n",
       "90  151      0.2295  POLYGON ((-217841.645 1282042.694, -217759.988...   \n",
       "91  151      0.2295  POLYGON ((-217841.645 1282042.694, -217842.377...   \n",
       "92  167      0.0460  POLYGON ((-221215.481 1286314.898, -221183.346...   \n",
       "93  167      0.0460  POLYGON ((-221215.481 1286314.898, -221218.733...   \n",
       "\n",
       "                                                 name  \n",
       "0   [SQUAW A-16-d, SQUAW A-3-f, SQUAW B-2-north, S...  \n",
       "1   [SQUAW A-16-b, SQUAW A-9-a, SQUAW B-1-c, SQUAW...  \n",
       "2   [SQUAW B-1-d, SQUAW B-2-south, SQUAW A-14-a, S...  \n",
       "3   [SQUAW B-3-a, SQUAW B-1-e, SQUAW C-2, SQUAW A-...  \n",
       "4   [SQUAW A-14, SQUAW A-14-i, SQUAW B-3-a, SQUAW ...  \n",
       "..                                                ...  \n",
       "89                                               None  \n",
       "90                                 [SQUAW 7, SQUAW 5]  \n",
       "91                                 [SQUAW 7, SQUAW 5]  \n",
       "92  [SQUAW A-16-e, SQUAW A-3-b, SQUAW B-1-a, SQUAW...  \n",
       "93  [SQUAW A-16-e, SQUAW A-3-b, SQUAW B-1-a, SQUAW...  \n",
       "\n",
       "[94 rows x 4 columns]"
      ]
     },
     "execution_count": 63,
     "metadata": {},
     "output_type": "execute_result"
    }
   ],
   "source": [
    "# if there is only one name, assign it as a string, if there are multiple names, assign them as a list\n",
    "mapfile_subbasins['name'] = mapfile_subbasins['name'].apply(lambda x: x[0] if isinstance(x, list) and len(x) == 1 else x)\n",
    "mapfile_subbasins"
   ]
  },
  {
   "cell_type": "code",
   "execution_count": 64,
   "id": "7ca8b523",
   "metadata": {},
   "outputs": [],
   "source": [
    "# export the mapfile subbasins with the assigned names to a new geojson file\n",
    "output_geojson = r\"C:\\Users\\MBMcmanus\\OneDrive - Garver\\Documents\\Work\\Lawton\\GIS\\SquawCreek_Subbasins_NamedByNearestAreas.geojson\"\n",
    "mapfile_subbasins.to_file(output_geojson, driver='GeoJSON')\n"
   ]
  }
 ],
 "metadata": {
  "kernelspec": {
   "display_name": "gis",
   "language": "python",
   "name": "python3"
  },
  "language_info": {
   "codemirror_mode": {
    "name": "ipython",
    "version": 3
   },
   "file_extension": ".py",
   "mimetype": "text/x-python",
   "name": "python",
   "nbconvert_exporter": "python",
   "pygments_lexer": "ipython3",
   "version": "3.13.3"
  }
 },
 "nbformat": 4,
 "nbformat_minor": 5
}
